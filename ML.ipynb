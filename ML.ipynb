{
 "cells": [
  {
   "cell_type": "code",
   "execution_count": 19,
   "metadata": {},
   "outputs": [
    {
     "data": {
      "text/plain": [
       "0.7624579467323478"
      ]
     },
     "execution_count": 19,
     "metadata": {},
     "output_type": "execute_result"
    }
   ],
   "source": [
    "import numpy as np\n",
    "import pandas as pd\n",
    "import matplotlib.pyplot as plt\n",
    "import seaborn as sns\n",
    "from sklearn.linear_model import LinearRegression\n",
    "from sklearn.metrics import r2_score,mean_absolute_error\n",
    "from sklearn.model_selection import train_test_split\n",
    "from sklearn.preprocessing import LabelEncoder\n",
    "\n",
    "df = pd.read_csv('Housing.csv')\n",
    "\n",
    "le=LabelEncoder()\n",
    "\n",
    "list_col = ['mainroad','guestroom','basement','hotwaterheating','airconditioning','prefarea','furnishingstatus']\n",
    "\n",
    "for i in list_col:\n",
    "    label=le.fit_transform(df[i])\n",
    "    df.drop([i],axis=1,inplace=True)\n",
    "    df[i]=label\n",
    "\n",
    "model=LinearRegression()\n",
    "\n",
    "X = df[['area','bedrooms','bathrooms','stories','parking','basement','mainroad','guestroom','hotwaterheating','airconditioning','prefarea','furnishingstatus']]\n",
    "y = df['price']\n",
    "\n",
    "X_train, X_test, y_train, y_test = train_test_split(X,y,test_size=0.2,random_state=50)\n",
    "\n",
    "model.fit(X_train, y_train)\n",
    "y_pred = model.predict(X_test)\n",
    "\n",
    "r2_score(y_test, y_pred)"
   ]
  },
  {
   "cell_type": "code",
   "execution_count": 26,
   "metadata": {},
   "outputs": [],
   "source": [
    "import pickle\n",
    "\n",
    "\n",
    "with open(\"model1.pkl\",\"wb\") as files:\n",
    "    pickle.dump(model,files)"
   ]
  }
 ],
 "metadata": {
  "kernelspec": {
   "display_name": "Python 3.8.1 32-bit",
   "language": "python",
   "name": "python3"
  },
  "language_info": {
   "codemirror_mode": {
    "name": "ipython",
    "version": 3
   },
   "file_extension": ".py",
   "mimetype": "text/x-python",
   "name": "python",
   "nbconvert_exporter": "python",
   "pygments_lexer": "ipython3",
   "version": "3.8.1"
  },
  "orig_nbformat": 4,
  "vscode": {
   "interpreter": {
    "hash": "8eb96234aed1d25e8ec670aa9118d4a80a5f75a27a3561e26790c2e2de3447f2"
   }
  }
 },
 "nbformat": 4,
 "nbformat_minor": 2
}
